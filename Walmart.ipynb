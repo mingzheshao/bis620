{
  "nbformat": 4,
  "nbformat_minor": 0,
  "metadata": {
    "colab": {
      "provenance": [],
      "mount_file_id": "1FrQ0GZhCWR-Cn2aDDX89nIbvPoetG4Nc",
      "authorship_tag": "ABX9TyN2SU3ny5+df31t9Q50w+Gj",
      "include_colab_link": true
    },
    "kernelspec": {
      "name": "python3",
      "display_name": "Python 3"
    },
    "language_info": {
      "name": "python"
    }
  },
  "cells": [
    {
      "cell_type": "markdown",
      "metadata": {
        "id": "view-in-github",
        "colab_type": "text"
      },
      "source": [
        "<a href=\"https://colab.research.google.com/github/mingzheshao/bis620/blob/main/Walmart.ipynb\" target=\"_parent\"><img src=\"https://colab.research.google.com/assets/colab-badge.svg\" alt=\"Open In Colab\"/></a>"
      ]
    },
    {
      "cell_type": "markdown",
      "source": [
        "# 1. Introduction"
      ],
      "metadata": {
        "id": "B4CgJ2YCrBqY"
      }
    },
    {
      "cell_type": "code",
      "source": [],
      "metadata": {
        "id": "Gem1C3qcrGGF"
      },
      "execution_count": null,
      "outputs": []
    },
    {
      "cell_type": "markdown",
      "source": [
        "# 2. Preparation"
      ],
      "metadata": {
        "id": "JPoK49MerGnl"
      }
    },
    {
      "cell_type": "markdown",
      "source": [
        "## 2.1 Import Packages"
      ],
      "metadata": {
        "id": "QMKGod8ErRKB"
      }
    },
    {
      "cell_type": "code",
      "source": [
        "import pandas as pd\n",
        "import seaborn as sns\n",
        "import matplotlib.pyplot as plt"
      ],
      "metadata": {
        "id": "oJkCnAnkriEY"
      },
      "execution_count": 5,
      "outputs": []
    },
    {
      "cell_type": "markdown",
      "source": [
        "## 2.2 Load Data"
      ],
      "metadata": {
        "id": "5JxHZ4OjsAVo"
      }
    },
    {
      "cell_type": "code",
      "source": [
        "# mount Google Drive \n",
        "from google.colab import drive\n",
        "drive.mount('/content/drive')"
      ],
      "metadata": {
        "colab": {
          "base_uri": "https://localhost:8080/"
        },
        "id": "6QE2Z5IRsnlG",
        "outputId": "1b92b6b7-3c1e-4bc4-c864-99aacdd27597"
      },
      "execution_count": 3,
      "outputs": [
        {
          "output_type": "stream",
          "name": "stdout",
          "text": [
            "Drive already mounted at /content/drive; to attempt to forcibly remount, call drive.mount(\"/content/drive\", force_remount=True).\n"
          ]
        }
      ]
    },
    {
      "cell_type": "code",
      "source": [
        "train = pd.read_csv('/content/drive/MyDrive/m5-forecasting-accuracy/sales_train_validation.csv')\n",
        "prices = pd.read_csv('/content/drive/MyDrive/m5-forecasting-accuracy/sell_prices.csv')\n",
        "calendar = pd.read_csv('/content/drive/MyDrive/m5-forecasting-accuracy/calendar.csv')\n",
        "sample_submit = pd.read_csv('/content/drive/MyDrive/m5-forecasting-accuracy/sample_submission.csv')"
      ],
      "metadata": {
        "id": "Tl8y7d5Xs3jc"
      },
      "execution_count": 17,
      "outputs": []
    },
    {
      "cell_type": "markdown",
      "source": [],
      "metadata": {
        "id": "CYc4-VYgsAn7"
      }
    },
    {
      "cell_type": "markdown",
      "source": [],
      "metadata": {
        "id": "HstP7I9esA4Z"
      }
    }
  ]
}